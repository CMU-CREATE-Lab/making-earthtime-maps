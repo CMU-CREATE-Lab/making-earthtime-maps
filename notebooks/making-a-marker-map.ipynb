{
 "cells": [
  {
   "cell_type": "code",
   "execution_count": null,
   "metadata": {},
   "outputs": [],
   "source": [
    "# Data from Copyright © Global Energy Monitor. Distributed under a Creative Commons Attribution 4.0 International License.\n",
    "# Recommended Citation: “Global Energy Monitor, Global Oil and Gas Extraction Tracker, March 2024 Release”. When the data set is being shared or adapted and our Creative Commons CC BY 4.0 International license applies, please read the license for attribution requirements. Necessary attribution elements are included in our data download files.\n",
    "# https://globalenergymonitor.org/projects/global-oil-gas-extraction-tracker/"
   ]
  },
  {
   "cell_type": "code",
   "execution_count": null,
   "metadata": {},
   "outputs": [],
   "source": [
    "import pandas as pd\n",
    "import geojson, json, os, random\n",
    "\n",
    "class GoogleSheetRow():\n",
    "    columns = [\n",
    "        'Enabled', 'Share link identifier', 'Category', 'Name', 'Credits', 'Base layer', 'Custom slider ticks', 'Start date',\n",
    "        'End date', 'Step', 'URL', 'Scaling', 'Color Scaling', 'Map Type', 'Color', 'External GeoJSON', 'Name Key', 'Show Graph',\n",
    "        'Graph Title', 'Graph Plot Colors', 'Graph Plots First Visible', 'Graph X-Axis Label', 'Graph Y-Axis Label', 'Graph Y-Axis Min',\n",
    "        'Graph Y-Axis Max', 'Graph X-Axis Label Interval', 'Legend Content', 'Legend Key', 'Load Data Function', 'Set Data Function', \n",
    "        'Number of Levels', 'Number of Attributes', 'Vertex Shader', 'Fragment Shader', 'Draw Function', 'Playback Rate',\n",
    "        'Master Playback Rate', 'Colormap Src', 'Layer Description', 'Featured Themes', 'Draw Options', 'Set Data Options', 'Extras Options',\n",
    "        'Draw Order', 'Timeline Type', 'Layer Constraints', 'Mapbox', 'Draw Layer Function'\n",
    "    ]\n",
    "    key_values = {}\n",
    "    def __init__(self, _dict = {}):\n",
    "        for column in self.columns:\n",
    "            self.key_values[column] = ''\n",
    "        for key in _dict.keys():\n",
    "            if key in self.columns:\n",
    "                self.key_values[key] = _dict[key]\n",
    "    def set_column(self, key, value):\n",
    "        if key in self.columns:\n",
    "            self.key_values[key] = value\n",
    "    def print_row(self):\n",
    "        row = []\n",
    "        for column in self.columns:\n",
    "            row.append(self.key_values[column])\n",
    "        print(\"\\t\".join(row))\n",
    "        \n"
   ]
  },
  {
   "cell_type": "code",
   "execution_count": null,
   "metadata": {},
   "outputs": [],
   "source": [
    "fname = \"../data/Global-Oil-and-Gas-Extraction-Tracker-March-2024.xlsx\"\n",
    "excel = pd.ExcelFile('../data/Global-Oil-and-Gas-Extraction-Tracker-March-2024.xlsx')\n",
    "excel.sheet_names"
   ]
  },
  {
   "cell_type": "code",
   "execution_count": null,
   "metadata": {},
   "outputs": [],
   "source": [
    "df = pd.read_excel(excel, \"Main data\")  "
   ]
  },
  {
   "cell_type": "code",
   "execution_count": null,
   "metadata": {},
   "outputs": [],
   "source": [
    "feature_collection = geojson.FeatureCollection(features=[])\n",
    "max_value = 0\n",
    "for idx, row in df.iterrows():\n",
    "    if row['Status'] != 'operating' or pd.isna(row['Production start year']) or pd.isna(row['Latitude']):\n",
    "        continue\n",
    "    point = geojson.Point((row['Longitude'], row['Latitude']))\n",
    "    # Why add a random month to start?\n",
    "    #   We could be exact and just add the start year, but the visualization ends feeling chunky\n",
    "    #   Adding a somewhat staggered random start to each inidvidual location makes it seem nicer\n",
    "    #   Just opinions though. Do w/e you want and pick what you like best\n",
    "    random_month = random.randrange(1,12)\n",
    "    random_pad_1 = str(random_month).zfill(2) + '01'    \n",
    "    random_pad_2 = str(random_month+1).zfill(2) + '01'    \n",
    "\n",
    "    dates = [str(int(row['Production start year']))+random_pad_1, str(int(row['Production start year']))+random_pad_2, '20240101']\n",
    "    values = [0,100,100]\n",
    "    properties = {\n",
    "        'status': 'operating',\n",
    "        'timeseries': {\n",
    "            'dates': dates,\n",
    "            'values': values\n",
    "        }\n",
    "        \n",
    "    }\n",
    "    feature = geojson.Feature(geometry=point, properties=properties)\n",
    "    feature_collection['features'].append(feature)\n"
   ]
  },
  {
   "cell_type": "code",
   "execution_count": null,
   "metadata": {},
   "outputs": [],
   "source": [
    "oname = 'data/making_a_marker_map_example_1.geojson'\n",
    "os.makedirs(os.path.dirname(oname), exist_ok=True)\n",
    "with open(oname, 'w') as f:\n",
    "    json.dump(feature_collection, f)\n"
   ]
  },
  {
   "cell_type": "code",
   "execution_count": null,
   "metadata": {},
   "outputs": [],
   "source": [
    "# Copy the data somewhere www accessible\n",
    "#!scp data/making_a_marker_map_example_1.geojson timemachine2:/t/earthtime.org/app/data/making-earthtime-maps\n",
    "!scp data/making_a_marker_map_example_1.geojson example_machine:/example/path/"
   ]
  },
  {
   "cell_type": "code",
   "execution_count": null,
   "metadata": {},
   "outputs": [],
   "source": [
    "# Please try to always add a layer description with minimally a brief explanation of what the visualization shows \n",
    "#  and where the data came from.\n",
    "layer_description = \"<h2>Oil and Gas Extraction Sites</h2><p>Sourced from <a href=\\\"https://globalenergymonitor.org/projects/global-oil-gas-extraction-tracker/\\\">https://globalenergymonitor.org/projects/global-oil-gas-extraction-tracker/</a></p><p>Displaying operating oil and gas extraction sites.</p>\"\n",
    "# Share link identifiers should be unique. Would be great if a DB just handled this... \n",
    "share_link_identifer = 'making_a_marker_map_example_1_' + str(random.getrandbits(16))\n",
    "category = 'Making EarthTime Maps'\n",
    "name = 'Oil and Gas Extraction Sites'\n",
    "# This should be wherever yoou uploaded your data to\n",
    "url = 'https://tiles.earthtime.org/making-earthtime-maps/making_a_marker_map_example_1.geojson'\n",
    "layer_args = {\n",
    "    'Enabled': 'TRUE',\n",
    "    'Share link identifier': share_link_identifer,\n",
    "    'Category': category, \n",
    "    'Name': name, \n",
    "    'Credits': 'Global Energy Monitor', \n",
    "    'Base layer': 'mb_openplanetv1', \n",
    "    'Start date': '1900',\n",
    "    'End date': '2024', \n",
    "    'URL': url, \n",
    "    'Scaling': f'd3.scaleSqrt().domain([0,100]).range([0,10]).clamp(true)', \n",
    "    'Layer Description': layer_description,\n",
    "    'Map Type': 'marker',\n",
    "    'Load Data Function': 'WebGLVectorTile2.prototype._loadGeojsonData',\n",
    "    'Set Data Function': 'WebGLVectorTile2.prototype._setMarkerData',\n",
    "    'Number of Attributes': '14',\n",
    "    'Vertex Shader': 'WebGLVectorTile2.animatedMarkerVertexShader',\n",
    "    'Fragment Shader': 'WebGLVectorTile2.markerFragmentShader',\n",
    "    'Draw Function': 'WebGLVectorTile2.prototype._drawMarker', \n",
    "    'Draw Options': '{\"pointSize\": 10, \"linewidth\": 2, \"mode\": \"disc\"}',\n",
    "    'Set Data Options': '{ \"sizeKey\": \"timeseries\", \"fills\": [[250, 242, 232, 0.55]], \"strokes\": [[250, 242, 232, 0.75]]}',\n",
    "    'Draw Order': '700',\n",
    "}\n",
    "row = GoogleSheetRow(layer_args)"
   ]
  },
  {
   "cell_type": "code",
   "execution_count": null,
   "metadata": {},
   "outputs": [],
   "source": [
    "# C&P the output of this into a sheet. Would be cool if this just like happened...\n",
    "row.print_row()"
   ]
  }
 ],
 "metadata": {
  "kernelspec": {
   "display_name": "Python 3",
   "language": "python",
   "name": "python3"
  },
  "language_info": {
   "codemirror_mode": {
    "name": "ipython",
    "version": 3
   },
   "file_extension": ".py",
   "mimetype": "text/x-python",
   "name": "python",
   "nbconvert_exporter": "python",
   "pygments_lexer": "ipython3",
   "version": "3.8.12"
  }
 },
 "nbformat": 4,
 "nbformat_minor": 4
}
