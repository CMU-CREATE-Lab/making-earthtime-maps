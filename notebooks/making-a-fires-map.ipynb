{
 "cells": [
  {
   "cell_type": "code",
   "execution_count": null,
   "metadata": {},
   "outputs": [],
   "source": [
    "import pandas as pd\n",
    "import array, csv, datetime, glob, math, os, random\n",
    "\n",
    "def LonLatToPixelXY(lonlat):\n",
    "    (lon, lat) = lonlat\n",
    "    x = (lon + 180.0) * 256.0 / 360.0\n",
    "    y = 128.0 - math.log(math.tan((lat + 90.0) * math.pi / 360.0)) * 128.0 / math.pi\n",
    "    return [x, y]\n",
    "\n",
    "def YearMonthDayToEpoch(year, month, day):\n",
    "    return (datetime.datetime(int(year), int(month), int(day)) - datetime.datetime(1970, 1, 1)).total_seconds()\n",
    "\n",
    "class GoogleSheetRow():\n",
    "    columns = [\n",
    "        'Enabled', 'Share link identifier', 'Category', 'Name', 'Credits', 'Base layer', 'Custom slider ticks', 'Start date',\n",
    "        'End date', 'Step', 'URL', 'Scaling', 'Color Scaling', 'Map Type', 'Color', 'External GeoJSON', 'Name Key', 'Show Graph',\n",
    "        'Graph Title', 'Graph Plot Colors', 'Graph Plots First Visible', 'Graph X-Axis Label', 'Graph Y-Axis Label', 'Graph Y-Axis Min',\n",
    "        'Graph Y-Axis Max', 'Graph X-Axis Label Interval', 'Legend Content', 'Legend Key', 'Load Data Function', 'Set Data Function', \n",
    "        'Number of Levels', 'Number of Attributes', 'Vertex Shader', 'Fragment Shader', 'Draw Function', 'Playback Rate',\n",
    "        'Master Playback Rate', 'Colormap Src', 'Layer Description', 'Featured Themes', 'Draw Options', 'Set Data Options', 'Extras Options',\n",
    "        'Draw Order', 'Timeline Type', 'Layer Constraints', 'Mapbox', 'Draw Layer Function'\n",
    "    ]\n",
    "    key_values = {}\n",
    "    def __init__(self, _dict = {}):\n",
    "        for column in self.columns:\n",
    "            self.key_values[column] = ''\n",
    "        for key in _dict.keys():\n",
    "            if key in self.columns:\n",
    "                self.key_values[key] = _dict[key]\n",
    "    def set_column(self, key, value):\n",
    "        if key in self.columns:\n",
    "            self.key_values[key] = value\n",
    "    def print_row(self):\n",
    "        row = []\n",
    "        for column in self.columns:\n",
    "            row.append(self.key_values[column])\n",
    "        print(\"\\t\".join(row))\n",
    "        \n"
   ]
  },
  {
   "cell_type": "code",
   "execution_count": null,
   "metadata": {},
   "outputs": [],
   "source": [
    "fnames = sorted(glob.glob('../data/making-a-fires-map/DL_FIRE_SV-C2_478326/*.csv'))\n",
    "fnames"
   ]
  },
  {
   "cell_type": "code",
   "execution_count": null,
   "metadata": {},
   "outputs": [],
   "source": [
    "df = pd.read_csv(fnames[0])"
   ]
  },
  {
   "cell_type": "code",
   "execution_count": null,
   "metadata": {},
   "outputs": [],
   "source": [
    "df.columns"
   ]
  },
  {
   "cell_type": "code",
   "execution_count": null,
   "metadata": {},
   "outputs": [],
   "source": [
    "df['confidence'].unique()"
   ]
  },
  {
   "cell_type": "code",
   "execution_count": null,
   "metadata": {},
   "outputs": [],
   "source": [
    "points = []\n",
    "df = pd.read_csv(fnames[0])\n",
    "for idx, row in df.iterrows():\n",
    "    if row['confidence'] != 'l':\n",
    "        x,y = LonLatToPixelXY((row['longitude'], row['latitude']))\n",
    "        year,m,d = row['acq_date'].split('-')\n",
    "        epoch = YearMonthDayToEpoch(year,m,d)\n",
    "        points += [x,y,epoch]\n",
    "df = pd.read_csv(fnames[1])\n",
    "for idx, row in df.iterrows():\n",
    "    if row['confidence'] != 'l':\n",
    "        x,y = LonLatToPixelXY((row['longitude'], row['latitude']))\n",
    "        year,m,d = row['acq_date'].split('-')\n",
    "        epoch = YearMonthDayToEpoch(year,m,d)\n",
    "        points += [x,y,epoch]\n",
    "        "
   ]
  },
  {
   "cell_type": "code",
   "execution_count": null,
   "metadata": {},
   "outputs": [],
   "source": [
    "len(points)/3"
   ]
  },
  {
   "cell_type": "code",
   "execution_count": null,
   "metadata": {},
   "outputs": [],
   "source": [
    "array.array('f', points).tofile(open('../data/making-a-fires-map/making_a_fires_map.bin', 'wb'))"
   ]
  },
  {
   "cell_type": "code",
   "execution_count": null,
   "metadata": {},
   "outputs": [],
   "source": [
    "!du -hs ../data/making-a-fires-map/making_a_fires_map.bin"
   ]
  },
  {
   "cell_type": "code",
   "execution_count": null,
   "metadata": {},
   "outputs": [],
   "source": [
    "!scp ../data/making-a-fires-map/making_a_fires_map.bin timemachine2:/t/earthtime.org/app/data/making-earthtime-maps\n"
   ]
  },
  {
   "cell_type": "code",
   "execution_count": null,
   "metadata": {},
   "outputs": [],
   "source": [
    "# Share link identifiers should be unique. Would be great if a DB just handled this... \n",
    "share_link_identifer = 'making_a_fires_map_example_1_' + str(random.getrandbits(16))\n",
    "category = 'Making EarthTime Maps'\n",
    "name = 'Making a fires map (Example 1)'\n",
    "url = 'https://tiles.earthtime.org/making-earthtime-maps/making_a_fires_map.bin'\n",
    "layer_args = {\n",
    "    'Enabled': 'TRUE',\n",
    "    'Share link identifier': share_link_identifer,\n",
    "    'Category': category, \n",
    "    'Name': name, \n",
    "    'Credits': 'NASA', \n",
    "    'Base layer': 'bdrk', \n",
    "    'Start date': '20180101',\n",
    "    'End date': '20231231', \n",
    "    'URL': url, \n",
    "    'Map Type': 'vector',\n",
    "    'Load Data Function': 'WebGLVectorTile2.prototype._loadData',\n",
    "    'Set Data Function': 'WebGLVectorTile2.prototype._setBufferData',\n",
    "    'Number of Levels': '0',\n",
    "    'Number of Attributes': '3',\n",
    "    'Vertex Shader': 'WebGLVectorTile2.viirsVertexShader',\n",
    "    'Fragment Shader': 'WebGLVectorTile2.viirsFragmentShader',\n",
    "    'Draw Function': 'WebGLVectorTile2.prototype._drawViirs',\n",
    "    'Playback Rate': '8',\n",
    "    'Master Playback Rate': '16',\n",
    "    'Draw Options': '{\"color\": [209, 56, 18]}',\n",
    "    'Draw Order': '700',\n",
    "}\n",
    "row = GoogleSheetRow(layer_args)\n",
    "row.print_row()"
   ]
  },
  {
   "cell_type": "code",
   "execution_count": null,
   "metadata": {},
   "outputs": [],
   "source": [
    "# Customizing the time span\n",
    "share_link_identifer = 'making_a_fires_map_example_2_' + str(random.getrandbits(16))\n",
    "category = 'Making EarthTime Maps'\n",
    "name = 'Making a fires map (Example 2)'\n",
    "span = 1*24*60*60 # (Number of days) * (24 hours) * (60 minutes) * (60 seconds) \n",
    "# This should be wherever you uploaded your data to\n",
    "url = 'https://tiles.earthtime.org/making-earthtime-maps/making_a_fires_map.bin'\n",
    "layer_args = {\n",
    "    'Enabled': 'TRUE',\n",
    "    'Share link identifier': share_link_identifer,\n",
    "    'Category': category, \n",
    "    'Name': name, \n",
    "    'Credits': 'NASA', \n",
    "    'Base layer': 'bdrk', \n",
    "    'Start date': '20180101',\n",
    "    'End date': '20230101', \n",
    "    'URL': url, \n",
    "    'Map Type': 'vector',\n",
    "    'Load Data Function': 'WebGLVectorTile2.prototype._loadData',\n",
    "    'Set Data Function': 'WebGLVectorTile2.prototype._setBufferData',\n",
    "    'Number of Levels': '0',\n",
    "    'Number of Attributes': '3',\n",
    "    'Vertex Shader': 'WebGLVectorTile2.viirsVertexShader',\n",
    "    'Fragment Shader': 'WebGLVectorTile2.viirsFragmentShader',\n",
    "    'Draw Function': 'WebGLVectorTile2.prototype._drawViirs',\n",
    "    'Playback Rate': '8',\n",
    "    'Master Playback Rate': '16',\n",
    "    'Draw Options': '{\"color\": [187, 16, 8], \"span\": '+str(span)+'}',\n",
    "    'Draw Order': '700',\n",
    "}\n",
    "row = GoogleSheetRow(layer_args)\n",
    "row.print_row()"
   ]
  },
  {
   "cell_type": "code",
   "execution_count": null,
   "metadata": {},
   "outputs": [],
   "source": [
    "points_by_year = {\n",
    "    '2018': [],\n",
    "    '2019': [],\n",
    "    '2020': [],\n",
    "    '2021': [],\n",
    "    '2022': [],\n",
    "    '2023': []\n",
    "}\n",
    "df = pd.read_csv(fnames[0])\n",
    "for idx, row in df.iterrows():\n",
    "    if row['confidence'] != 'l':\n",
    "        x,y = LonLatToPixelXY((row['longitude'], row['latitude']))\n",
    "        year,m,d = row['acq_date'].split('-')\n",
    "        epoch = YearMonthDayToEpoch(year,m,d)\n",
    "        points_by_year[year] += [x,y,epoch]\n",
    "df = pd.read_csv(fnames[1])\n",
    "for idx, row in df.iterrows():\n",
    "    if row['confidence'] != 'l':\n",
    "        x,y = LonLatToPixelXY((row['longitude'], row['latitude']))\n",
    "        year,m,d = row['acq_date'].split('-')\n",
    "        epoch = YearMonthDayToEpoch(year,m,d)\n",
    "        points_by_year[year] += [x,y,epoch]\n"
   ]
  },
  {
   "cell_type": "code",
   "execution_count": null,
   "metadata": {},
   "outputs": [],
   "source": [
    "for key in points_by_year.keys():\n",
    "    print(key, len(points_by_year[key]))"
   ]
  },
  {
   "cell_type": "code",
   "execution_count": null,
   "metadata": {},
   "outputs": [],
   "source": [
    "for key in points_by_year.keys():\n",
    "    array.array('f', points_by_year[key]).tofile(open('../data/making-a-fires-map/making_a_fires_map_'+ key +'.bin', 'wb'))\n",
    "    cmd = f'scp ../data/making-a-fires-map/making_a_fires_map_{key}.bin timemachine2:/t/earthtime.org/app/data/making-earthtime-maps'\n",
    "    !$cmd\n"
   ]
  },
  {
   "cell_type": "code",
   "execution_count": null,
   "metadata": {},
   "outputs": [],
   "source": [
    "# Produce 6 layers showing total for each year\n",
    "category = 'Making EarthTime Maps'\n",
    "span = 365*24*60*60 # (Number of days) * (24 hours) * (60 minutes) * (60 seconds) \n",
    "layer_args = {\n",
    "    'Enabled': 'TRUE',\n",
    "    'Share link identifier': '',\n",
    "    'Category': category, \n",
    "    'Name': '', \n",
    "    'Credits': 'NASA', \n",
    "    'Base layer': 'bdrk', \n",
    "    'Start date': '',\n",
    "    'End date': '', \n",
    "    'URL': '', \n",
    "    'Map Type': 'vector',\n",
    "    'Load Data Function': 'WebGLVectorTile2.prototype._loadData',\n",
    "    'Set Data Function': 'WebGLVectorTile2.prototype._setBufferData',\n",
    "    'Number of Levels': '0',\n",
    "    'Number of Attributes': '3',\n",
    "    'Vertex Shader': 'WebGLVectorTile2.viirsVertexShader',\n",
    "    'Fragment Shader': 'WebGLVectorTile2.viirsFragmentShader',\n",
    "    'Draw Function': 'WebGLVectorTile2.prototype._drawViirs',\n",
    "    'Playback Rate': '',\n",
    "    'Master Playback Rate': '',\n",
    "    'Draw Options': '{\"color\": [187, 16, 8], \"span\": '+str(span)+'}',\n",
    "    'Draw Order': '700',\n",
    "}\n",
    "for key in points_by_year.keys():\n",
    "    share_link_identifer = f'making_a_fires_map_example_{key}_' + str(random.getrandbits(16))\n",
    "    name = f'Making a fires map ({key})'\n",
    "    url = f'https://tiles.earthtime.org/making-earthtime-maps/making_a_fires_map_{key}.bin'\n",
    "    layer_args['Share link identifier'] = share_link_identifer\n",
    "    layer_args['Name'] = name\n",
    "    layer_args['URL'] = url\n",
    "    layer_args['Start date'] = f'{key}0101'\n",
    "    layer_args['End date'] = f'{key}1231'\n",
    "    row = GoogleSheetRow(layer_args)\n",
    "    row.print_row()"
   ]
  },
  {
   "cell_type": "code",
   "execution_count": null,
   "metadata": {},
   "outputs": [],
   "source": []
  }
 ],
 "metadata": {
  "kernelspec": {
   "display_name": "Python 3",
   "language": "python",
   "name": "python3"
  },
  "language_info": {
   "codemirror_mode": {
    "name": "ipython",
    "version": 3
   },
   "file_extension": ".py",
   "mimetype": "text/x-python",
   "name": "python",
   "nbconvert_exporter": "python",
   "pygments_lexer": "ipython3",
   "version": "3.8.12"
  }
 },
 "nbformat": 4,
 "nbformat_minor": 4
}
