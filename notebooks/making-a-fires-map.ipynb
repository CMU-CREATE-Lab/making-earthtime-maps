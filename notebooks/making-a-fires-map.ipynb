{
 "cells": [
  {
   "cell_type": "code",
   "execution_count": 1,
   "metadata": {},
   "outputs": [],
   "source": [
    "import pandas as pd\n",
    "import array, csv, datetime, glob, math, os, random\n",
    "\n",
    "def LonLatToPixelXY(lonlat):\n",
    "    (lon, lat) = lonlat\n",
    "    x = (lon + 180.0) * 256.0 / 360.0\n",
    "    y = 128.0 - math.log(math.tan((lat + 90.0) * math.pi / 360.0)) * 128.0 / math.pi\n",
    "    return [x, y]\n",
    "\n",
    "def YearMonthDayToEpoch(year, month, day):\n",
    "    return (datetime.datetime(int(year), int(month), int(day)) - datetime.datetime(1970, 1, 1)).total_seconds()\n",
    "\n",
    "class GoogleSheetRow():\n",
    "    columns = [\n",
    "        'Enabled', 'Share link identifier', 'Category', 'Name', 'Credits', 'Base layer', 'Custom slider ticks', 'Start date',\n",
    "        'End date', 'Step', 'URL', 'Scaling', 'Color Scaling', 'Map Type', 'Color', 'External GeoJSON', 'Name Key', 'Show Graph',\n",
    "        'Graph Title', 'Graph Plot Colors', 'Graph Plots First Visible', 'Graph X-Axis Label', 'Graph Y-Axis Label', 'Graph Y-Axis Min',\n",
    "        'Graph Y-Axis Max', 'Graph X-Axis Label Interval', 'Legend Content', 'Legend Key', 'Load Data Function', 'Set Data Function', \n",
    "        'Number of Levels', 'Number of Attributes', 'Vertex Shader', 'Fragment Shader', 'Draw Function', 'Playback Rate',\n",
    "        'Master Playback Rate', 'Colormap Src', 'Layer Description', 'Featured Themes', 'Draw Options', 'Set Data Options', 'Extras Options',\n",
    "        'Draw Order', 'Timeline Type', 'Layer Constraints', 'Mapbox', 'Draw Layer Function'\n",
    "    ]\n",
    "    key_values = {}\n",
    "    def __init__(self, _dict = {}):\n",
    "        for column in self.columns:\n",
    "            self.key_values[column] = ''\n",
    "        for key in _dict.keys():\n",
    "            if key in self.columns:\n",
    "                self.key_values[key] = _dict[key]\n",
    "    def set_column(self, key, value):\n",
    "        if key in self.columns:\n",
    "            self.key_values[key] = value\n",
    "    def print_row(self):\n",
    "        row = []\n",
    "        for column in self.columns:\n",
    "            row.append(self.key_values[column])\n",
    "        print(\"\\t\".join(row))\n",
    "        \n"
   ]
  },
  {
   "cell_type": "code",
   "execution_count": 2,
   "metadata": {},
   "outputs": [
    {
     "data": {
      "text/plain": [
       "['../data/making-a-fires-map/DL_FIRE_SV-C2_478326/brazil_fires.csv',\n",
       " '../data/making-a-fires-map/DL_FIRE_SV-C2_478326/fire_archive_SV-C2_478326.csv',\n",
       " '../data/making-a-fires-map/DL_FIRE_SV-C2_478326/fire_nrt_SV-C2_478326.csv']"
      ]
     },
     "execution_count": 2,
     "metadata": {},
     "output_type": "execute_result"
    }
   ],
   "source": [
    "fnames = sorted(glob.glob('../data/making-a-fires-map/DL_FIRE_SV-C2_478326/*.csv'))\n",
    "fnames"
   ]
  },
  {
   "cell_type": "code",
   "execution_count": 3,
   "metadata": {},
   "outputs": [],
   "source": [
    "df = pd.read_csv(fnames[0])"
   ]
  },
  {
   "cell_type": "code",
   "execution_count": 4,
   "metadata": {},
   "outputs": [
    {
     "data": {
      "text/plain": [
       "Index(['latitude', 'longitude', 'acq_date', 'confidence'], dtype='object')"
      ]
     },
     "execution_count": 4,
     "metadata": {},
     "output_type": "execute_result"
    }
   ],
   "source": [
    "df.columns"
   ]
  },
  {
   "cell_type": "code",
   "execution_count": 5,
   "metadata": {},
   "outputs": [
    {
     "data": {
      "text/plain": [
       "array(['n', 'h', 'l'], dtype=object)"
      ]
     },
     "execution_count": 5,
     "metadata": {},
     "output_type": "execute_result"
    }
   ],
   "source": [
    "df['confidence'].unique()"
   ]
  },
  {
   "cell_type": "code",
   "execution_count": 6,
   "metadata": {},
   "outputs": [],
   "source": [
    "points = []\n",
    "\n",
    "length = len(fnames)\n",
    "\n",
    "for i in range(length):\n",
    "    df = pd.read_csv(fnames[i])\n",
    "    for idx, row in df.iterrows():\n",
    "        if row['confidence'] != 'l':\n",
    "            x,y = LonLatToPixelXY((row['longitude'], row['latitude']))\n",
    "            year,m,d = row['acq_date'].split('-')\n",
    "            epoch = YearMonthDayToEpoch(year,m,d)\n",
    "            points += [x,y,epoch]\n",
    "        "
   ]
  },
  {
   "cell_type": "code",
   "execution_count": 7,
   "metadata": {},
   "outputs": [
    {
     "data": {
      "text/plain": [
       "282035.0"
      ]
     },
     "execution_count": 7,
     "metadata": {},
     "output_type": "execute_result"
    }
   ],
   "source": [
    "len(points)/3"
   ]
  },
  {
   "cell_type": "code",
   "execution_count": 8,
   "metadata": {},
   "outputs": [],
   "source": [
    "array.array('f', points).tofile(open('../data/making-a-fires-map/making_a_fires_map.bin', 'wb'))"
   ]
  },
  {
   "cell_type": "code",
   "execution_count": 9,
   "metadata": {},
   "outputs": [
    {
     "name": "stdout",
     "output_type": "stream",
     "text": [
      "3.2M\t../data/making-a-fires-map/making_a_fires_map.bin\n"
     ]
    }
   ],
   "source": [
    "!du -hs ../data/making-a-fires-map/making_a_fires_map.bin"
   ]
  },
  {
   "cell_type": "code",
   "execution_count": 10,
   "metadata": {},
   "outputs": [
    {
     "name": "stdout",
     "output_type": "stream",
     "text": [
      "ssh: Could not resolve hostname timemachine2: nodename nor servname provided, or not known\n",
      "scp: Connection closed\n"
     ]
    }
   ],
   "source": [
    "!scp ../data/making-a-fires-map/making_a_fires_map.bin timemachine2:/t/earthtime.org/app/data/making-earthtime-maps\n"
   ]
  },
  {
   "cell_type": "code",
   "execution_count": 11,
   "metadata": {},
   "outputs": [
    {
     "name": "stdout",
     "output_type": "stream",
     "text": [
      "TRUE\tmaking_a_fires_map_example_1_49705\tMaking EarthTime Maps\tMaking a fires map (Example 1)\tNASA\tbdrk\t\t20180101\t20231231\t\thttps://tiles.earthtime.org/making-earthtime-maps/making_a_fires_map.bin\t\t\tvector\t\t\t\t\t\t\t\t\t\t\t\t\t\t\tWebGLVectorTile2.prototype._loadData\tWebGLVectorTile2.prototype._setBufferData\t0\t3\tWebGLVectorTile2.viirsVertexShader\tWebGLVectorTile2.viirsFragmentShader\tWebGLVectorTile2.prototype._drawViirs\t8\t16\t\t\t\t{\"color\": [209, 56, 18]}\t\t\t700\t\t\t\t\n"
     ]
    }
   ],
   "source": [
    "# Share link identifiers should be unique. Would be great if a DB just handled this... \n",
    "share_link_identifer = 'making_a_fires_map_example_1_' + str(random.getrandbits(16))\n",
    "category = 'Making EarthTime Maps'\n",
    "name = 'Making a fires map (Example 1)'\n",
    "url = 'https://tiles.earthtime.org/making-earthtime-maps/making_a_fires_map.bin'\n",
    "layer_args = {\n",
    "    'Enabled': 'TRUE',\n",
    "    'Share link identifier': share_link_identifer,\n",
    "    'Category': category, \n",
    "    'Name': name, \n",
    "    'Credits': 'NASA', \n",
    "    'Base layer': 'bdrk', \n",
    "    'Start date': '20180101',\n",
    "    'End date': '20231231', \n",
    "    'URL': url, \n",
    "    'Map Type': 'vector',\n",
    "    'Load Data Function': 'WebGLVectorTile2.prototype._loadData',\n",
    "    'Set Data Function': 'WebGLVectorTile2.prototype._setBufferData',\n",
    "    'Number of Levels': '0',\n",
    "    'Number of Attributes': '3',\n",
    "    'Vertex Shader': 'WebGLVectorTile2.viirsVertexShader',\n",
    "    'Fragment Shader': 'WebGLVectorTile2.viirsFragmentShader',\n",
    "    'Draw Function': 'WebGLVectorTile2.prototype._drawViirs',\n",
    "    'Playback Rate': '8',\n",
    "    'Master Playback Rate': '16',\n",
    "    'Draw Options': '{\"color\": [209, 56, 18]}',\n",
    "    'Draw Order': '700',\n",
    "}\n",
    "row = GoogleSheetRow(layer_args)\n",
    "row.print_row()"
   ]
  },
  {
   "cell_type": "code",
   "execution_count": 12,
   "metadata": {},
   "outputs": [
    {
     "name": "stdout",
     "output_type": "stream",
     "text": [
      "TRUE\tmaking_a_fires_map_example_2_53954\tMaking EarthTime Maps\tMaking a fires map (Example 2)\tNASA\tbdrk\t\t20180101\t20230101\t\thttps://tiles.earthtime.org/making-earthtime-maps/making_a_fires_map.bin\t\t\tvector\t\t\t\t\t\t\t\t\t\t\t\t\t\t\tWebGLVectorTile2.prototype._loadData\tWebGLVectorTile2.prototype._setBufferData\t0\t3\tWebGLVectorTile2.viirsVertexShader\tWebGLVectorTile2.viirsFragmentShader\tWebGLVectorTile2.prototype._drawViirs\t8\t16\t\t\t\t{\"color\": [187, 16, 8], \"span\": 86400}\t\t\t700\t\t\t\t\n"
     ]
    }
   ],
   "source": [
    "# Customizing the time span\n",
    "share_link_identifer = 'making_a_fires_map_example_2_' + str(random.getrandbits(16))\n",
    "category = 'Making EarthTime Maps'\n",
    "name = 'Making a fires map (Example 2)'\n",
    "span = 1*24*60*60 # (Number of days) * (24 hours) * (60 minutes) * (60 seconds) \n",
    "# This should be wherever you uploaded your data to\n",
    "url = 'https://tiles.earthtime.org/making-earthtime-maps/making_a_fires_map.bin'\n",
    "layer_args = {\n",
    "    'Enabled': 'TRUE',\n",
    "    'Share link identifier': share_link_identifer,\n",
    "    'Category': category, \n",
    "    'Name': name, \n",
    "    'Credits': 'NASA', \n",
    "    'Base layer': 'bdrk', \n",
    "    'Start date': '20180101',\n",
    "    'End date': '20230101', \n",
    "    'URL': url, \n",
    "    'Map Type': 'vector',\n",
    "    'Load Data Function': 'WebGLVectorTile2.prototype._loadData',\n",
    "    'Set Data Function': 'WebGLVectorTile2.prototype._setBufferData',\n",
    "    'Number of Levels': '0',\n",
    "    'Number of Attributes': '3',\n",
    "    'Vertex Shader': 'WebGLVectorTile2.viirsVertexShader',\n",
    "    'Fragment Shader': 'WebGLVectorTile2.viirsFragmentShader',\n",
    "    'Draw Function': 'WebGLVectorTile2.prototype._drawViirs',\n",
    "    'Playback Rate': '8',\n",
    "    'Master Playback Rate': '16',\n",
    "    'Draw Options': '{\"color\": [187, 16, 8], \"span\": '+str(span)+'}',\n",
    "    'Draw Order': '700',\n",
    "}\n",
    "row = GoogleSheetRow(layer_args)\n",
    "row.print_row()"
   ]
  },
  {
   "cell_type": "code",
   "execution_count": 14,
   "metadata": {},
   "outputs": [],
   "source": [
    "points_by_year = {\n",
    "    '2018': [],\n",
    "    '2019': [],\n",
    "    '2020': [],\n",
    "    '2021': [],\n",
    "    '2022': [],\n",
    "    '2023': [], \n",
    "    '2024': [],\n",
    "}\n",
    "\n",
    "for i in range(length):\n",
    "    df = pd.read_csv(fnames[i])\n",
    "    for idx, row in df.iterrows():\n",
    "        if row['confidence'] != 'l':\n",
    "            x,y = LonLatToPixelXY((row['longitude'], row['latitude']))\n",
    "            year,m,d = row['acq_date'].split('-')\n",
    "            epoch = YearMonthDayToEpoch(year,m,d)\n",
    "            points_by_year[year] += [x,y,epoch]\n"
   ]
  },
  {
   "cell_type": "code",
   "execution_count": 15,
   "metadata": {},
   "outputs": [
    {
     "name": "stdout",
     "output_type": "stream",
     "text": [
      "2018 18030\n",
      "2019 50412\n",
      "2020 102519\n",
      "2021 42558\n",
      "2022 69321\n",
      "2023 70317\n",
      "2024 492948\n"
     ]
    }
   ],
   "source": [
    "for key in points_by_year.keys():\n",
    "    print(key, len(points_by_year[key]))"
   ]
  },
  {
   "cell_type": "code",
   "execution_count": 16,
   "metadata": {},
   "outputs": [
    {
     "name": "stdout",
     "output_type": "stream",
     "text": [
      "ssh: Could not resolve hostname timemachine2: nodename nor servname provided, or not known\n",
      "scp: Connection closed\n",
      "ssh: Could not resolve hostname timemachine2: nodename nor servname provided, or not known\n",
      "scp: Connection closed\n",
      "ssh: Could not resolve hostname timemachine2: nodename nor servname provided, or not known\n",
      "scp: Connection closed\n",
      "ssh: Could not resolve hostname timemachine2: nodename nor servname provided, or not known\n",
      "scp: Connection closed\n",
      "ssh: Could not resolve hostname timemachine2: nodename nor servname provided, or not known\n",
      "scp: Connection closed\n",
      "ssh: Could not resolve hostname timemachine2: nodename nor servname provided, or not known\n",
      "scp: Connection closed\n",
      "ssh: Could not resolve hostname timemachine2: nodename nor servname provided, or not known\n",
      "scp: Connection closed\n"
     ]
    }
   ],
   "source": [
    "for key in points_by_year.keys():\n",
    "    array.array('f', points_by_year[key]).tofile(open('../data/making-a-fires-map/making_a_fires_map_'+ key +'.bin', 'wb'))\n",
    "    cmd = f'scp ../data/making-a-fires-map/making_a_fires_map_{key}.bin timemachine2:/t/earthtime.org/app/data/making-earthtime-maps'\n",
    "    !$cmd\n"
   ]
  },
  {
   "cell_type": "code",
   "execution_count": 17,
   "metadata": {},
   "outputs": [
    {
     "name": "stdout",
     "output_type": "stream",
     "text": [
      "TRUE\tmaking_a_fires_map_example_2018_14166\tMaking EarthTime Maps\tMaking a fires map (2018)\tNASA\tbdrk\t\t20180101\t20181231\t\thttps://tiles.earthtime.org/making-earthtime-maps/making_a_fires_map_2018.bin\t\t\tvector\t\t\t\t\t\t\t\t\t\t\t\t\t\t\tWebGLVectorTile2.prototype._loadData\tWebGLVectorTile2.prototype._setBufferData\t0\t3\tWebGLVectorTile2.viirsVertexShader\tWebGLVectorTile2.viirsFragmentShader\tWebGLVectorTile2.prototype._drawViirs\t\t\t\t\t\t{\"color\": [187, 16, 8], \"span\": 31536000}\t\t\t700\t\t\t\t\n",
      "TRUE\tmaking_a_fires_map_example_2019_12587\tMaking EarthTime Maps\tMaking a fires map (2019)\tNASA\tbdrk\t\t20190101\t20191231\t\thttps://tiles.earthtime.org/making-earthtime-maps/making_a_fires_map_2019.bin\t\t\tvector\t\t\t\t\t\t\t\t\t\t\t\t\t\t\tWebGLVectorTile2.prototype._loadData\tWebGLVectorTile2.prototype._setBufferData\t0\t3\tWebGLVectorTile2.viirsVertexShader\tWebGLVectorTile2.viirsFragmentShader\tWebGLVectorTile2.prototype._drawViirs\t\t\t\t\t\t{\"color\": [187, 16, 8], \"span\": 31536000}\t\t\t700\t\t\t\t\n",
      "TRUE\tmaking_a_fires_map_example_2020_11367\tMaking EarthTime Maps\tMaking a fires map (2020)\tNASA\tbdrk\t\t20200101\t20201231\t\thttps://tiles.earthtime.org/making-earthtime-maps/making_a_fires_map_2020.bin\t\t\tvector\t\t\t\t\t\t\t\t\t\t\t\t\t\t\tWebGLVectorTile2.prototype._loadData\tWebGLVectorTile2.prototype._setBufferData\t0\t3\tWebGLVectorTile2.viirsVertexShader\tWebGLVectorTile2.viirsFragmentShader\tWebGLVectorTile2.prototype._drawViirs\t\t\t\t\t\t{\"color\": [187, 16, 8], \"span\": 31536000}\t\t\t700\t\t\t\t\n",
      "TRUE\tmaking_a_fires_map_example_2021_56627\tMaking EarthTime Maps\tMaking a fires map (2021)\tNASA\tbdrk\t\t20210101\t20211231\t\thttps://tiles.earthtime.org/making-earthtime-maps/making_a_fires_map_2021.bin\t\t\tvector\t\t\t\t\t\t\t\t\t\t\t\t\t\t\tWebGLVectorTile2.prototype._loadData\tWebGLVectorTile2.prototype._setBufferData\t0\t3\tWebGLVectorTile2.viirsVertexShader\tWebGLVectorTile2.viirsFragmentShader\tWebGLVectorTile2.prototype._drawViirs\t\t\t\t\t\t{\"color\": [187, 16, 8], \"span\": 31536000}\t\t\t700\t\t\t\t\n",
      "TRUE\tmaking_a_fires_map_example_2022_39400\tMaking EarthTime Maps\tMaking a fires map (2022)\tNASA\tbdrk\t\t20220101\t20221231\t\thttps://tiles.earthtime.org/making-earthtime-maps/making_a_fires_map_2022.bin\t\t\tvector\t\t\t\t\t\t\t\t\t\t\t\t\t\t\tWebGLVectorTile2.prototype._loadData\tWebGLVectorTile2.prototype._setBufferData\t0\t3\tWebGLVectorTile2.viirsVertexShader\tWebGLVectorTile2.viirsFragmentShader\tWebGLVectorTile2.prototype._drawViirs\t\t\t\t\t\t{\"color\": [187, 16, 8], \"span\": 31536000}\t\t\t700\t\t\t\t\n",
      "TRUE\tmaking_a_fires_map_example_2023_20677\tMaking EarthTime Maps\tMaking a fires map (2023)\tNASA\tbdrk\t\t20230101\t20231231\t\thttps://tiles.earthtime.org/making-earthtime-maps/making_a_fires_map_2023.bin\t\t\tvector\t\t\t\t\t\t\t\t\t\t\t\t\t\t\tWebGLVectorTile2.prototype._loadData\tWebGLVectorTile2.prototype._setBufferData\t0\t3\tWebGLVectorTile2.viirsVertexShader\tWebGLVectorTile2.viirsFragmentShader\tWebGLVectorTile2.prototype._drawViirs\t\t\t\t\t\t{\"color\": [187, 16, 8], \"span\": 31536000}\t\t\t700\t\t\t\t\n",
      "TRUE\tmaking_a_fires_map_example_2024_24069\tMaking EarthTime Maps\tMaking a fires map (2024)\tNASA\tbdrk\t\t20240101\t20241231\t\thttps://tiles.earthtime.org/making-earthtime-maps/making_a_fires_map_2024.bin\t\t\tvector\t\t\t\t\t\t\t\t\t\t\t\t\t\t\tWebGLVectorTile2.prototype._loadData\tWebGLVectorTile2.prototype._setBufferData\t0\t3\tWebGLVectorTile2.viirsVertexShader\tWebGLVectorTile2.viirsFragmentShader\tWebGLVectorTile2.prototype._drawViirs\t\t\t\t\t\t{\"color\": [187, 16, 8], \"span\": 31536000}\t\t\t700\t\t\t\t\n"
     ]
    }
   ],
   "source": [
    "# Produce 6 layers showing total for each year\n",
    "category = 'Making EarthTime Maps'\n",
    "span = 365*24*60*60 # (Number of days) * (24 hours) * (60 minutes) * (60 seconds) \n",
    "layer_args = {\n",
    "    'Enabled': 'TRUE',\n",
    "    'Share link identifier': '',\n",
    "    'Category': category, \n",
    "    'Name': '', \n",
    "    'Credits': 'NASA', \n",
    "    'Base layer': 'bdrk', \n",
    "    'Start date': '',\n",
    "    'End date': '', \n",
    "    'URL': '', \n",
    "    'Map Type': 'vector',\n",
    "    'Load Data Function': 'WebGLVectorTile2.prototype._loadData',\n",
    "    'Set Data Function': 'WebGLVectorTile2.prototype._setBufferData',\n",
    "    'Number of Levels': '0',\n",
    "    'Number of Attributes': '3',\n",
    "    'Vertex Shader': 'WebGLVectorTile2.viirsVertexShader',\n",
    "    'Fragment Shader': 'WebGLVectorTile2.viirsFragmentShader',\n",
    "    'Draw Function': 'WebGLVectorTile2.prototype._drawViirs',\n",
    "    'Playback Rate': '',\n",
    "    'Master Playback Rate': '',\n",
    "    'Draw Options': '{\"color\": [187, 16, 8], \"span\": '+str(span)+'}',\n",
    "    'Draw Order': '700',\n",
    "}\n",
    "for key in points_by_year.keys():\n",
    "    share_link_identifer = f'making_a_fires_map_example_{key}_' + str(random.getrandbits(16))\n",
    "    name = f'Making a fires map ({key})'\n",
    "    url = f'https://tiles.earthtime.org/making-earthtime-maps/making_a_fires_map_{key}.bin'\n",
    "    layer_args['Share link identifier'] = share_link_identifer\n",
    "    layer_args['Name'] = name\n",
    "    layer_args['URL'] = url\n",
    "    layer_args['Start date'] = f'{key}0101'\n",
    "    layer_args['End date'] = f'{key}1231'\n",
    "    row = GoogleSheetRow(layer_args)\n",
    "    row.print_row()"
   ]
  },
  {
   "cell_type": "code",
   "execution_count": null,
   "metadata": {},
   "outputs": [],
   "source": []
  }
 ],
 "metadata": {
  "kernelspec": {
   "display_name": "Python 3",
   "language": "python",
   "name": "python3"
  },
  "language_info": {
   "codemirror_mode": {
    "name": "ipython",
    "version": 3
   },
   "file_extension": ".py",
   "mimetype": "text/x-python",
   "name": "python",
   "nbconvert_exporter": "python",
   "pygments_lexer": "ipython3",
   "version": "3.9.6"
  }
 },
 "nbformat": 4,
 "nbformat_minor": 4
}
