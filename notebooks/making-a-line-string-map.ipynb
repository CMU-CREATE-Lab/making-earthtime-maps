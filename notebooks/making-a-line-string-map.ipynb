{
 "cells": [
  {
   "cell_type": "code",
   "execution_count": null,
   "metadata": {
    "collapsed": true
   },
   "outputs": [],
   "source": [
    "import os"
   ]
  },
  {
   "cell_type": "code",
   "execution_count": null,
   "metadata": {
    "collapsed": true
   },
   "outputs": [],
   "source": [
    "if not os.path.exists(\"../data/making-a-line-string-map/\"):\n",
    "    os.makedirs(\"../data/making-a-line-string-map/\")"
   ]
  },
  {
   "cell_type": "code",
   "execution_count": null,
   "metadata": {
    "collapsed": true
   },
   "outputs": [],
   "source": [
    "# Download the GeoJSON example from https://worldmap.harvard.edu/data/geonode:telecom_tw7 \n",
    "# to ../data/making-a-line-string-map/example.geojson\n"
   ]
  },
  {
   "cell_type": "code",
   "execution_count": null,
   "metadata": {},
   "outputs": [],
   "source": [
    "!rsync -rcav ../data/making-a-line-string-map timemachine2:/usr2/SUBDOMAIN.earthtime.org/app/misc/"
   ]
  },
  {
   "cell_type": "code",
   "execution_count": null,
   "metadata": {},
   "outputs": [],
   "source": [
    "print 'TRUE\\tmaking_a_line_string_map\\tMaking EarthTime Maps\\tLine String\\tCREATE Lab\\t2017\\t2017\\t1\\thttps://SUBDOMAIN.earthtime.org/misc/making-a-line-string-map/example.geojson\\t\\t\\tline-string\\t[1.0,0.0,0.0,1.0]\\t\\t\\t\\t\\t\\t\\t\\t\\t\\t\\t\\t\\t<svg class=\"svg-legend\" width=\"260\" height=\"10\"><rect fill=\"rgb(255,0,0)\" y=\"5\" x=\"0\" height=\"10\" width=\"260\"></rect></svg>\\t\\tWebGLVectorTile2.prototype._loadGeojsonData\\tWebGLVectorTile2.prototype._setLineStringData\\t\\t2\\tWebGLVectorTile2.lineStringVertexShader\\tWebGLVectorTile2.lineStringFragmentShader\\tWebGLVectorTile2.prototype._drawLineString'"
   ]
  },
  {
   "cell_type": "code",
   "execution_count": null,
   "metadata": {
    "collapsed": true
   },
   "outputs": [],
   "source": []
  }
 ],
 "metadata": {
  "kernelspec": {
   "display_name": "Python 2",
   "language": "python",
   "name": "python2"
  },
  "language_info": {
   "codemirror_mode": {
    "name": "ipython",
    "version": 2
   },
   "file_extension": ".py",
   "mimetype": "text/x-python",
   "name": "python",
   "nbconvert_exporter": "python",
   "pygments_lexer": "ipython2",
   "version": "2.7.13"
  }
 },
 "nbformat": 4,
 "nbformat_minor": 2
}
