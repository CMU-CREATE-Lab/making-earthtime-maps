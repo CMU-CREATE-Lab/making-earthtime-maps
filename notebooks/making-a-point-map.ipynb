{
 "cells": [
  {
   "cell_type": "code",
   "execution_count": null,
   "metadata": {
    "collapsed": true
   },
   "outputs": [],
   "source": [
    "import array, datetime, json, math, os, random\n",
    "\n",
    "def LonLatToPixelXY(lonlat):\n",
    "    (lon, lat) = lonlat\n",
    "    x = (lon + 180.0) * 256.0 / 360.0\n",
    "    y = 128.0 - math.log(math.tan((lat + 90.0) * math.pi / 360.0)) * 128.0 / math.pi\n",
    "    return [x, y]\n",
    "\n",
    "def YearMonthDayToEpoch(year, month, day):\n",
    "    return (datetime.datetime(int(year), int(month), int(day)) - datetime.datetime(1970, 1, 1)).total_seconds()"
   ]
  },
  {
   "cell_type": "code",
   "execution_count": null,
   "metadata": {},
   "outputs": [],
   "source": [
    "if not os.path.exists(\"../data/making-a-point-map/\"):\n",
    "    os.makedirs(\"../data/making-a-point-map/\")"
   ]
  },
  {
   "cell_type": "code",
   "execution_count": null,
   "metadata": {},
   "outputs": [],
   "source": [
    "!wget --no-check-certificate https://eerscmap.usgs.gov/uswtdb/assets/data/uswtdbGeoJSON.zip -P ../data/making-a-point-map/"
   ]
  },
  {
   "cell_type": "code",
   "execution_count": null,
   "metadata": {},
   "outputs": [],
   "source": [
    "!unzip ../data/making-a-point-map/uswtdbGeoJSON.zip -d ../data/making-a-point-map/"
   ]
  },
  {
   "cell_type": "code",
   "execution_count": null,
   "metadata": {
    "collapsed": true
   },
   "outputs": [],
   "source": [
    "with open(\"../data/making-a-point-map/uswtdb_v1_1_20180710.geojson\") as f:\n",
    "    data = json.load(f)"
   ]
  },
  {
   "cell_type": "code",
   "execution_count": null,
   "metadata": {},
   "outputs": [],
   "source": [
    "len(data[\"features\"])"
   ]
  },
  {
   "cell_type": "code",
   "execution_count": null,
   "metadata": {},
   "outputs": [],
   "source": [
    "data[\"features\"][0]"
   ]
  },
  {
   "cell_type": "code",
   "execution_count": null,
   "metadata": {},
   "outputs": [],
   "source": [
    "min_year = 2018\n",
    "max_year = 0\n",
    "points = []\n",
    "for feature in data[\"features\"]:\n",
    "    geometry = feature['geometry']\n",
    "    properties = feature['properties']\n",
    "    if properties['p_year'] != -9999:\n",
    "        lon = geometry['coordinates'][0]\n",
    "        lat = geometry['coordinates'][1] \n",
    "        x,y = LonLatToPixelXY([lon,lat])\n",
    "        year = properties['p_year']\n",
    "        month = random.randrange(1,12,1) # bogus month\n",
    "        day = random.randrange(1,28,1) # bogus day\n",
    "        epochtime = YearMonthDayToEpoch(year, month, day)\n",
    "        points += [x,y,epochtime]\n",
    "        if year < min_year:\n",
    "            min_year = year\n",
    "        if year > max_year:\n",
    "            max_year = year\n",
    "\n",
    "f.close()\n",
    "array.array('f', points).tofile(open('../data/making-a-point-map/points.bin', 'wb'))\n",
    "    "
   ]
  },
  {
   "cell_type": "code",
   "execution_count": null,
   "metadata": {},
   "outputs": [],
   "source": [
    "min_year, max_year"
   ]
  },
  {
   "cell_type": "code",
   "execution_count": null,
   "metadata": {},
   "outputs": [],
   "source": [
    "!rsync -rcav ../data/making-a-point-map timemachine2:/usr2/SUBDOMAIN.earthtime.org/app/misc/"
   ]
  },
  {
   "cell_type": "code",
   "execution_count": null,
   "metadata": {},
   "outputs": [],
   "source": [
    "print \"TRUE\\tmaking_a_point_map\\tMaking EarthTime Maps\\tPoints\\tUSGS\\t1981\\t2018\\t1\\thttps://SUBDOMAIN.earthtime.org/misc/making-a-point-map/points.bin\\t\\t\\tpoint\\t\\t\\t\\t\\t\\t\\t\\t\\t\\t\\t\\t\\t\\t\\t\\tWebGLVectorTile2.prototype._loadData\\tWebGLVectorTile2.prototype._setBufferData \\t\\t3\\tWebGLVectorTile2.vectorPointTileVertexShader\\tWebGLVectorTile2.vectorPointTileFragmentShader\\tWebGLVectorTile2.prototype._drawPoints\""
   ]
  },
  {
   "cell_type": "code",
   "execution_count": null,
   "metadata": {
    "collapsed": true
   },
   "outputs": [],
   "source": []
  }
 ],
 "metadata": {
  "kernelspec": {
   "display_name": "Python 2",
   "language": "python",
   "name": "python2"
  },
  "language_info": {
   "codemirror_mode": {
    "name": "ipython",
    "version": 2
   },
   "file_extension": ".py",
   "mimetype": "text/x-python",
   "name": "python",
   "nbconvert_exporter": "python",
   "pygments_lexer": "ipython2",
   "version": "2.7.13"
  }
 },
 "nbformat": 4,
 "nbformat_minor": 2
}
