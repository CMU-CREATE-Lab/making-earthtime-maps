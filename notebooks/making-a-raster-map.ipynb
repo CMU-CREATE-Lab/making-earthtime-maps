{
 "cells": [
  {
   "cell_type": "code",
   "execution_count": null,
   "metadata": {
    "collapsed": true
   },
   "outputs": [],
   "source": [
    "from PIL import Image"
   ]
  },
  {
   "cell_type": "code",
   "execution_count": null,
   "metadata": {},
   "outputs": [],
   "source": [
    "#Start with a large Image\n",
    "Image.open(\"../data/making-a-raster-map/example.png\")"
   ]
  },
  {
   "cell_type": "code",
   "execution_count": null,
   "metadata": {},
   "outputs": [],
   "source": [
    "# Convert to GeoTIFF\n",
    "!gdal_translate -of GTiff -a_ullr -180 90 180 -90 -a_srs EPSG:4326 ../data/making-a-raster-map/example.png ../data/making-a-raster-map/example.tif\n"
   ]
  },
  {
   "cell_type": "code",
   "execution_count": null,
   "metadata": {
    "collapsed": true
   },
   "outputs": [],
   "source": [
    "# Convert to Web Mercator\n",
    "!gdalwarp -s_srs EPSG:4326 -t_srs EPSG:3857 -te -20037508.34 -20037508.34 20037508.34 20037508.34 -ts 2880 2880 -r lanczos ../data/making-a-raster-map/example.tif ../data/making-a-raster-map/example-3857.tif\n"
   ]
  },
  {
   "cell_type": "code",
   "execution_count": null,
   "metadata": {},
   "outputs": [],
   "source": [
    "# Generate tiles\n",
    "!gdal2tiles.py --profile=mercator -z 0-4 ../data/making-a-raster-map/example-3857.tif ../data/making-a-raster-map/"
   ]
  },
  {
   "cell_type": "code",
   "execution_count": null,
   "metadata": {},
   "outputs": [],
   "source": [
    "!rsync -rcav ../data/making-a-raster-map timemachine2:/usr2/SUBDOMAIN.earthtime.org/app/misc/"
   ]
  },
  {
   "cell_type": "code",
   "execution_count": null,
   "metadata": {},
   "outputs": [],
   "source": [
    "print 'TRUE\\tmaking_a_raster_map\\tMaking EarthTime Maps\\tRaster\\tCREATE Lab\\t\\t\\t\\t(\"https://SUBDOMAIN.earthtime.org/misc/making-a-raster-map/{z}/{x}/{yflip}.png\");\\t\\t\\traster\\t\\t\\t\\t\\t\\t\\t\\t\\t\\t\\t\\t\\t\\tauto\\t\\t\\t\\t4'"
   ]
  },
  {
   "cell_type": "code",
   "execution_count": null,
   "metadata": {
    "collapsed": true
   },
   "outputs": [],
   "source": []
  }
 ],
 "metadata": {
  "kernelspec": {
   "display_name": "Python 2",
   "language": "python",
   "name": "python2"
  },
  "language_info": {
   "codemirror_mode": {
    "name": "ipython",
    "version": 2
   },
   "file_extension": ".py",
   "mimetype": "text/x-python",
   "name": "python",
   "nbconvert_exporter": "python",
   "pygments_lexer": "ipython2",
   "version": "2.7.13"
  }
 },
 "nbformat": 4,
 "nbformat_minor": 2
}
