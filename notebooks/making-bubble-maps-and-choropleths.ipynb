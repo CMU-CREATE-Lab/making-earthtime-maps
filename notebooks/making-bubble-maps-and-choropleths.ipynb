{
 "cells": [
  {
   "cell_type": "markdown",
   "metadata": {},
   "source": [
    "<h1>Data format</h1>\n",
    "<p>EarthTime requires CSV files to be formatted in one of two ways.<p>\n",
    "    \n",
    "| Name        | Date 1           | Date 2           | ... | Date N           | \n",
    "| ----------- | ---------------- |------------------| --- | ---------------- |\n",
    "| name 1      | value for date 1 | value for date 2 | ... | value for date N |\n",
    "| name 2      | value for date 1 | value for date 2 | ... | value for date N |\n",
    "\n",
    "<p>Values for the <b>Name column</b> should be ISO alpha 3 values for country level visualizations</p>\n",
    "<p>Values for the <b>Date column(s)</b> should be formatted as YYYY, YYYYMMDD, YYYYMMDDHH or YYYYMMDDHHSS</p>\n",
    "<br/>\n",
    "<p>Optionally Latitude and Longitude can be specified</p>\n",
    "\n",
    "| Name        |Latitude| Longitude | Date 1          | Date 2           | ... | Date N           | \n",
    "| ----------- |--------| --------- |---------------- |------------------| --- | ---------------- |\n",
    "| name 1      | lat 1  | lng 1     |value for date 1 | value for date 2 | ... | value for date N |\n",
    "| name 2      | lat 2  | lng 2     |value for date 1 | value for date 2 | ... | value for date N |\n",
    "\n",
    "<p>Values for <b>Latitude</b> and <b>Longitude</b> should be expresssed in decimal degrees</p>\n",
    "\n",
    "<p>Example formatted sheets are provided <b>data/examples/sheet_1.csv</b> and <b>data/examples/sheet_2.csv</b></p>"
   ]
  },
  {
   "cell_type": "markdown",
   "metadata": {},
   "source": [
    "<h1>Data accessibility</h1>\n",
    "<p>\n",
    "    For data to be imported into EarthTime, it must be network accessible via https.<br>\n",
    "    A Google Sheet that contains the examples has been provided: <strong>YOUR GOOGLE SHEET</strong>\n",
    "</p>\n",
    "<p>\n",
    "https://docs-proxy.cmucreatelab.org/spreadsheets/d/YOUR_SHEET_ID/export?format=csv&gid=YOUR_GID\n",
    "</p>"
   ]
  },
  {
   "cell_type": "markdown",
   "metadata": {},
   "source": [
    "<h1>Creating new layers</h1>\n",
    "<p>We will work through several examples of creating and customizing new layers using the example spreadsheets.</p>\n",
    "<p>These can be found at https://YOUR_SUBDOMAIN.earthtime.org/explore in the HOWTO section.</p>\n",
    "<p>EarthTime links to a Google Sheet that contains rows that defines the layers available.</p>\n",
    "<p>For https://YOUR_SUBDOMAIN.earthtime.org/explore the sheet can be found here: https://docs.google.com/spreadsheets/d/YOUR_SHEET_ID/edit#gid=YOUR_GID\n",
    "    </p>\n",
    "<p>Below are the columns that we will edit and change</p>\n",
    "<b>Enabled</b> This value sets whether or not the layer will be available. Pissible values are TRUE or FALSE.<br/>\n",
    "<b>Share link identifier</b> This value defines the unique identifier that will be used to generate sharelinks to the visualization. It should be unique and not contain spaces or special charactrs except for - and/or _.<br/>\n",
    "<b>Category</b> This defines where the layer will appear in the Data Library dropdown menu.<br/>\n",
    "<b>Name</b> This defines the name of the layer as it appears in the Data Library dropdown menu and is used in the legend.<br/>\n",
    "<b>Credits</b> This is used in the legend to atrribute the source of the data.<br/>\n",
    "<b>Base layer</b> This value defines the underlying map ontop of which the visualizatioon will appear. Possible values are bdrk, landsat and blte.<br/>\n",
    "<b>Start date</b> This value defines the starting year of the visualization. It should be formatted as YYYY, YYYYMM or YYYYMMDD.<br/>\n",
    "<b>End date</b> This value defines the starting year of the visualization. It should be formatted as YYYY, YYYYMM or YYYYMMDD<br/>\n",
    "<b>URL</b> This value should be an URL to the data used for the visualization. It should be netowrk accessible via https.<br/>\n",
    "<b>Map Type</b> This value defines the kind of visualization that will be displayed. Possible values include bubble or choropleth.<br/>\n",
    "<b>Color</b> When rendering a bubble map this value defines the color of the bubbles. Values should be formatted at '[%red, %green %blue]. For example, [1.0,0.0,0.0] will display a red bubble. <br/>\n",
    "<b>Colormap Src</b> Optional value for choropleth maps. It should be a network accessible PNG that is 1pixel high by 256 pixels wide. See https://tiles.earthtime.org/colormaps/matplotlib/viridis.png as an example.<br/> \n",
    "<b>Legend Content</b> Supplying a value of 'auto' will cause a default legend to be generated. Custom legends can be added as well formatted HTML or SVG.<br/>\n",
    "<b>Legend Key</b> Optional value to add a key or description to the auto generated legend.<br/>\n",
    "<b>Scaling</b> Javascript function that defines how the values from the data set are scaled for rendering. For choropleths the maximum scaled number should be 1. <br/>\n",
    "<b>Layer Description</b> Optional value that allows markdown formatted text to be included to further provid an explanation regarding the layer. Content is accessed by clicking the question mark that appears next to the layer name as displayed in the Data Library dropdown menu.\n"
   ]
  },
  {
   "cell_type": "markdown",
   "metadata": {},
   "source": [
    "<h2>Helper code for printing CSV file layer row</h2>"
   ]
  },
  {
   "cell_type": "code",
   "execution_count": null,
   "metadata": {},
   "outputs": [],
   "source": [
    "cols = \"Enabled\tShare link identifier\tCategory\tName\tCredits\tBase layer\tCustom slider ticks\tStart date\tEnd date\tStep\tURL\tScaling\tColor Scaling\tMap Type\tColor\tExternal GeoJSON\tName Key\tShow Graph\tGraph Title\tGraph Plot Colors\tGraph Plots First Visible\tGraph X-Axis Label\tGraph Y-Axis Label\tGraph Y-Axis Min\tGraph Y-Axis Max\tGraph X-Axis Label Interval\tLegend Content\tLegend Key\tLoad Data Function\tSet Data Function\tNumber of Levels\tNumber of Attributes\tVertex Shader\tFragment Shader\tDraw Function\tPlayback Rate\tMaster Playback Rate\tColormap Src\tLayer Description\tFeatured Themes\tDraw Options\tSet Data Options\tExtras Options\tDraw Order\tTimeline Type\tLayer Constraints\tMapbox\tDraw Layer Function\"\n",
    "headers = cols.split(\"\\t\")\n",
    "\n",
    "def print_row(values):\n",
    "    row = []\n",
    "    for key in headers:\n",
    "        if key in values:\n",
    "            row.append(values[key])\n",
    "        else:\n",
    "            row.append(\"\")\n",
    "    print(\"\\t\".join(row))\n",
    "    \n",
    "DATA_URL = 'https://docs-proxy.cmucreatelab.org/spreadsheets/d/YOUR_SHEET_ID/export?format=csv&gid=YOUR_GID'\n"
   ]
  },
  {
   "cell_type": "markdown",
   "metadata": {},
   "source": [
    "<h1>Examples</h1>\n",
    "<p>For each of the below examples copy and paste the printed line into your CSV file layer sheet and then refresh https://YOUR_SUBDOMAIN.earthtime.org/explore to make the new layer available in the Data Library.</p>\n",
    "<h2>Choropleths</h2>"
   ]
  },
  {
   "cell_type": "markdown",
   "metadata": {},
   "source": [
    "<h3>Example 1</h3>\n"
   ]
  },
  {
   "cell_type": "code",
   "execution_count": null,
   "metadata": {},
   "outputs": [],
   "source": [
    "# https://YOUR_SUBDOMAIN.earthtime.org/explore#v=4.56342,0,-0.286,latLng&t=3.45&ps=50&l=bdrk,howto_example1&bt=19840101&et=20191231&startDwell=0&endDwell=0\n",
    "\n",
    "layer_description = \"\"\"\n",
    "An example choropleth layer using default values.\n",
    "\"\"\"\n",
    "values = {\n",
    "    \"Enabled\": \"TRUE\",\n",
    "    \"Share link identifier\": \"howto_example1\",\n",
    "    \"Category\": \"HOWTO\",\n",
    "    \"Name\": \"Example 1\",\n",
    "    \"Credits\": \"CMU CREATE Lab\",\n",
    "    \"Base layer\": \"bdrk\",\n",
    "    \"Start date\": \"1984\",\n",
    "    \"End date\": \"2019\",\n",
    "    \"URL\": DATA_URL,\n",
    "    \"Map Type\": \"choropleth\",\n",
    "    'Color': \"\",\n",
    "    'Legend Content': 'auto',    \n",
    "    'Legend Key': 'Example 1 values',\n",
    "    'Scaling': 'd3.scaleLinear().domain([minValue, maxValue]).range([0, 1.0]).clamp(true)',\n",
    "    \"Layer Description\": layer_description.replace(\"\\n\", \"\")    \n",
    "}\n",
    "\n",
    "print_row(values)"
   ]
  },
  {
   "cell_type": "markdown",
   "metadata": {},
   "source": [
    "<b>Copy & paste the above line into the designated Google Sheet</b>"
   ]
  },
  {
   "cell_type": "markdown",
   "metadata": {},
   "source": [
    "<h3>Example 2</h3>"
   ]
  },
  {
   "cell_type": "code",
   "execution_count": null,
   "metadata": {},
   "outputs": [],
   "source": [
    "# https://YOUR_SUBDOMAIN.earthtime.org/explore#v=4.56342,0,-0.286,latLng&t=3.57&ps=50&l=bdrk,howto_example2&bt=19840101&et=20191231&startDwell=0&endDwell=0\n",
    "\n",
    "layer_description = \"\"\"\n",
    "An example choropleth layer using a custom colomap and scaling function.\n",
    "\"\"\"\n",
    "values = {\n",
    "    \"Enabled\": \"TRUE\",\n",
    "    \"Share link identifier\": \"howto_example2\",\n",
    "    \"Category\": \"HOWTO\",\n",
    "    \"Name\": \"Example 2\",\n",
    "    \"Credits\": \"CMU CREATE Lab\",\n",
    "    \"Base layer\": \"bdrk\",\n",
    "    \"Start date\": \"1984\",\n",
    "    \"End date\": \"2019\",\n",
    "    \"URL\": DATA_URL,\n",
    "    \"Map Type\": \"choropleth\",\n",
    "    'Color': \"\",\n",
    "    'Colormap Src': 'https://tiles.earthtime.org/colormaps/matplotlib/viridis.png',    \n",
    "    'Legend Content': 'auto',    \n",
    "    'Legend Key': 'Example 2 values',\n",
    "    'Scaling': 'd3.scaleLinear().domain([25.0, 75.0]).range([0, 1.0]).clamp(true)',\n",
    "    \"Layer Description\": layer_description.replace(\"\\n\", \"\")    \n",
    "}\n",
    "\n",
    "print_row(values)"
   ]
  },
  {
   "cell_type": "markdown",
   "metadata": {},
   "source": [
    "<b>Copy & paste the above line into the designated Google Sheet</b>"
   ]
  },
  {
   "cell_type": "markdown",
   "metadata": {},
   "source": [
    "<h3>Example 3</h3>"
   ]
  },
  {
   "cell_type": "code",
   "execution_count": null,
   "metadata": {},
   "outputs": [],
   "source": [
    "# https://YOUR_SUBDOMAIN.earthtime.org/explore#v=4.56342,0,-0.286,latLng&t=3.54&ps=50&l=bdrk,howto_example3&bt=19840101&et=20191231&startDwell=0&endDwell=0\n",
    "\n",
    "layer_description = \"\"\"\n",
    "An example choropleth layer using a custom colomap and custom legend.\n",
    "\"\"\"\n",
    "legend_content = '<svg class=\"svg-legend\" width=\"600\" height=\"60\"><text font-size=\"12px\" fill=\"#e6e6e6\" y=\"10\" x=\"120\" text-anchor=\"middle\">Example 3 legend key</text><rect fill=\"rgb(68, 1, 84)\" y=\"20\" x=\"0\" height=\"20\" width=\"75\"></rect><rect fill=\"rgb(70, 50, 126)\" y=\"20\" x=\"75\" height=\"20\" width=\"75\"></rect><rect fill=\"rgb(55, 91, 141)\" y=\"20\" x=\"150\" height=\"20\" width=\"75\"></rect><rect fill=\"rgb(39, 127, 142)\" y=\"20\" x=\"225\" height=\"20\" width=\"75\"></rect><rect fill=\"rgb(31, 161, 136)\" y=\"20\" x=\"300\" height=\"20\" width=\"75\"></rect><rect fill=\"rgb(74, 193, 109)\" y=\"20\" x=\"375\" height=\"20\" width=\"75\"></rect><rect fill=\"rgb(157, 217, 59)\" y=\"20\" x=\"450\" height=\"20\" width=\"75\"></rect><rect fill=\"rgb(253, 231, 37)\" y=\"20\" x=\"525\" height=\"20\" width=\"75\"></rect><text font-size=\"9px\" fill=\"#e6e6e6\" y=\"50\" x=\"37.5\" text-anchor=\"middle\">0.0-1.33e1</text><text font-size=\"9px\" fill=\"#e6e6e6\" y=\"50\" x=\"112.5\" text-anchor=\"middle\">1.33e1-1.78e2</text><text font-size=\"9px\" fill=\"#e6e6e6\" y=\"50\" x=\"187.5\" text-anchor=\"middle\">1.78e2-2.37e3</text><text font-size=\"9px\" fill=\"#e6e6e6\" y=\"50\" x=\"262.5\" text-anchor=\"middle\">2.37e3-3.16e4</text><text font-size=\"9px\" fill=\"#e6e6e6\" y=\"50\" x=\"337.5\" text-anchor=\"middle\">3.16e4-4.22e5</text><text font-size=\"9px\" fill=\"#e6e6e6\" y=\"50\" x=\"412.5\" text-anchor=\"middle\">4.22e5-5.62e6</text><text font-size=\"9px\" fill=\"#e6e6e6\" y=\"50\" x=\"487.5\" text-anchor=\"middle\">5.62e6-7.50e7</text><text font-size=\"9px\" fill=\"#e6e6e6\" y=\"50\" x=\"562.5\" text-anchor=\"middle\">7.50e7-1.00e9</text></svg>'\n",
    "values = {\n",
    "    \"Enabled\": \"TRUE\",\n",
    "    \"Share link identifier\": \"howto_example3\",\n",
    "    \"Category\": \"HOWTO\",\n",
    "    \"Name\": \"Example 3\",\n",
    "    \"Credits\": \"CMU CREATE Lab\",\n",
    "    \"Base layer\": \"bdrk\",\n",
    "    \"Start date\": \"1984\",\n",
    "    \"End date\": \"2019\",\n",
    "    \"URL\": DATA_URL,\n",
    "    \"Map Type\": \"choropleth\",\n",
    "    'Color': \"\",\n",
    "    'Colormap Src': 'https://tiles.earthtime.org/colormaps/matplotlib/viridis.png',    \n",
    "    'Legend Content': legend_content,    \n",
    "    'Scaling': 'd3.scaleLinear().domain([0, 100.0]).range([0, 1.0]).clamp(true)',\n",
    "    \"Layer Description\": layer_description.replace(\"\\n\", \"\")    \n",
    "}\n",
    "\n",
    "print_row(values)"
   ]
  },
  {
   "cell_type": "markdown",
   "metadata": {},
   "source": [
    "<b>Copy & paste the above line into the designated Google Sheet</b>"
   ]
  },
  {
   "cell_type": "markdown",
   "metadata": {},
   "source": [
    "<h2>Bubble maps</h2>"
   ]
  },
  {
   "cell_type": "markdown",
   "metadata": {},
   "source": [
    "<h3>Example 4</h3>"
   ]
  },
  {
   "cell_type": "code",
   "execution_count": null,
   "metadata": {},
   "outputs": [],
   "source": [
    "# https://YOOUR_SUBDOMAIN.earthtime.org/explore#v=4.56342,0,-0.286,latLng&t=2.37&ps=50&l=bdrk,howto_example4&bt=19840101&et=20191231&startDwell=0&endDwell=0\n",
    "\n",
    "layer_description = \"\"\"\n",
    "An example bubble map layer using default values.\n",
    "\"\"\"\n",
    "values = {\n",
    "    \"Enabled\": \"TRUE\",\n",
    "    \"Share link identifier\": \"howto_example4\",\n",
    "    \"Category\": \"HOWTO\",\n",
    "    \"Name\": \"Example 4\",\n",
    "    \"Credits\": \"CMU CREATE Lab\",\n",
    "    \"Base layer\": \"bdrk\",\n",
    "    \"Start date\": \"1984\",\n",
    "    \"End date\": \"2019\",\n",
    "    \"URL\": DATA_URL,\n",
    "    \"Map Type\": \"bubble\",\n",
    "    'Color': \"[0.0,1.0,0.0]\",\n",
    "    'Legend Content': 'auto',\n",
    "    'Legend Key': 'default values',\n",
    "    'Scaling': 'd3.scaleSqrt().domain([minValue, maxValue]).range([0, 100.0]).clamp(true)',\n",
    "    \"Layer Description\": layer_description.replace(\"\\n\", \"\")    \n",
    "}\n",
    "\n",
    "print_row(values)"
   ]
  },
  {
   "cell_type": "markdown",
   "metadata": {},
   "source": [
    "<b>Copy & paste the above line into the designated Google Sheet</b>"
   ]
  },
  {
   "cell_type": "markdown",
   "metadata": {},
   "source": [
    "<h3>Example 5</h3>"
   ]
  },
  {
   "cell_type": "code",
   "execution_count": null,
   "metadata": {},
   "outputs": [],
   "source": [
    "# https://SUB_DOMAIN.earthtime.org/explore#v=4.56342,0,-0.286,latLng&t=2.37&ps=50&l=bdrk,howto_example4&bt=19840101&et=20191231&startDwell=0&endDwell=0\n",
    "\n",
    "layer_description = \"\"\"\n",
    "An example bubble map layer customizing color and scale.\n",
    "\"\"\"\n",
    "values = {\n",
    "    \"Enabled\": \"TRUE\",\n",
    "    \"Share link identifier\": \"howto_example5\",\n",
    "    \"Category\": \"HOWTO\",\n",
    "    \"Name\": \"Example 5\",\n",
    "    \"Credits\": \"CMU CREATE Lab\",\n",
    "    \"Base layer\": \"bdrk\",\n",
    "    \"Start date\": \"1984\",\n",
    "    \"End date\": \"2019\",\n",
    "    \"URL\": DATA_URL,\n",
    "    \"Map Type\": \"bubble\",\n",
    "    'Color': \"[0.85,0.15,0.07]\",\n",
    "    'Legend Content': 'auto',\n",
    "    'Legend Key': 'default values',\n",
    "    'Scaling': 'd3.scaleSqrt().domain([10, 50]).range([1, 50.0]).clamp(true)',\n",
    "    \"Layer Description\": layer_description.replace(\"\\n\", \"\")    \n",
    "}\n",
    "\n",
    "print_row(values)"
   ]
  },
  {
   "cell_type": "markdown",
   "metadata": {},
   "source": [
    "<b>Copy & paste the above line into the designated Google Sheet</b>"
   ]
  },
  {
   "cell_type": "markdown",
   "metadata": {},
   "source": [
    "<h3>Example 6</h3>"
   ]
  },
  {
   "cell_type": "code",
   "execution_count": null,
   "metadata": {},
   "outputs": [],
   "source": [
    "# https://YOUR_SUBDOMAIN.earthtime.org/explore#v=4.56342,0,-0.286,latLng&t=2.37&ps=50&l=bdrk,howto_example4&bt=19840101&et=20191231&startDwell=0&endDwell=0\n",
    "\n",
    "layer_description = \"\"\"\n",
    "An example bubble map layer customizing the bubble color and border color size and opacity.\n",
    "\"\"\"\n",
    "draw_options = \"\"\"\n",
    "{\n",
    "    \"edgeSize\": 2,\n",
    "    \"color\": [0.1412,0.1686,0.2863,0.75],\n",
    "    \"edgeColor\": [0.8510,0.8549,0.8824,1.0]\n",
    "}\n",
    "\"\"\"\n",
    "fragment_shader = 'WebGLVectorTile2.bubbleMapFragmentShaderV2'\n",
    "\n",
    "values = {\n",
    "    \"Enabled\": \"TRUE\",\n",
    "    \"Share link identifier\": \"howto_example6\",\n",
    "    \"Category\": \"HOWTO\",\n",
    "    \"Name\": \"Example 6\",\n",
    "    \"Credits\": \"CMU CREATE Lab\",\n",
    "    \"Base layer\": \"bdrk\",\n",
    "    \"Start date\": \"1984\",\n",
    "    \"End date\": \"2019\",\n",
    "    \"URL\": DATA_URL,\n",
    "    \"Map Type\": \"bubble\",\n",
    "    'Color': \"[0.1412,0.1686,0.2863,0.75]\",\n",
    "    'Legend Content': 'auto',\n",
    "    'Legend Key': 'default values',\n",
    "    'Scaling': 'd3.scaleSqrt().domain([minValue, maxValue]).range([1, 50.0]).clamp(true)',\n",
    "    'Fragment Shader': fragment_shader,\n",
    "    'Draw Options': draw_options.replace(\"\\n\", \"\"),\n",
    "    \"Layer Description\": layer_description.replace(\"\\n\", \"\")    \n",
    "}\n",
    "\n",
    "print_row(values)"
   ]
  },
  {
   "cell_type": "markdown",
   "metadata": {},
   "source": [
    "<b>Copy & paste the above line into the designated Google Sheet</b>"
   ]
  },
  {
   "cell_type": "code",
   "execution_count": null,
   "metadata": {},
   "outputs": [],
   "source": []
  }
 ],
 "metadata": {
  "kernelspec": {
   "display_name": "Python 3",
   "language": "python",
   "name": "python3"
  },
  "language_info": {
   "codemirror_mode": {
    "name": "ipython",
    "version": 3
   },
   "file_extension": ".py",
   "mimetype": "text/x-python",
   "name": "python",
   "nbconvert_exporter": "python",
   "pygments_lexer": "ipython3",
   "version": "3.8.12"
  }
 },
 "nbformat": 4,
 "nbformat_minor": 4
}
