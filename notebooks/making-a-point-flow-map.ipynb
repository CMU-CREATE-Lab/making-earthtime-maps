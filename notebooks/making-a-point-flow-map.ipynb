{
 "cells": [
  {
   "cell_type": "code",
   "execution_count": null,
   "metadata": {},
   "outputs": [],
   "source": [
    "import array, calendar, csv, json, math, random, time\n",
    "\n",
    "def LonLatToPixelXY(lonlat):\n",
    "    (lon, lat) = lonlat\n",
    "    x = (lon + 180.0) * 256.0 / 360.0\n",
    "    y = 128.0 - math.log(math.tan((lat + 90.0) * math.pi / 360.0)) * 128.0 / math.pi\n",
    "    return [x, y]\n",
    "# p0 = LonLatToPixelXY(districts_of_origin[origin]['coordinates'])\n",
    "\n",
    "\n",
    "def FormatEpoch(datestr, formatstr):\n",
    "    return calendar.timegm(time.strptime(datestr, formatstr))\n",
    "#FormatEpoch(\"%s-%s-%s\" % (year0, month0, day0), '%Y-%m-%d')\n",
    "def GetPoint(row, epsilon):\n",
    "    p0 = LonLatToPixelXY(row['org'])\n",
    "    p2 = LonLatToPixelXY(row['dst'])\n",
    "    p1 = [0,0]\n",
    "    p1[0] = ((p2[0] + p0[0]) / 2)\n",
    "    p1[1] = ((p2[1] + p0[1]) / 2)\n",
    "    p1[0] += random.choice([1,-1]) * random.random() * 4\n",
    "    p1[1] += random.choice([1,-1]) * random.random() * 4\n",
    "    e0 = FormatEpoch(\"%s-%s-%s\" % (int(row[\"year\"]) - 1, random.randint(2,11), random.randint(1,28)), '%Y-%m-%d')\n",
    "    e1 = FormatEpoch(\"%s-%s-%s\" % (int(row[\"year\"]), random.randint(1,12), random.randint(1,28)), '%Y-%m-%d')\n",
    "    return [p0[0], p0[1], p1[0], p1[1], p2[0], p2[1], e0, e1]"
   ]
  },
  {
   "cell_type": "code",
   "execution_count": null,
   "metadata": {
    "collapsed": true
   },
   "outputs": [],
   "source": [
    "raw = []\n",
    "with open(\"../data/making-a-point-flow-map/comtrade.csv\") as f:\n",
    "    reader = csv.DictReader(f)\n",
    "    for row in reader:\n",
    "        raw.append(row)"
   ]
  },
  {
   "cell_type": "code",
   "execution_count": null,
   "metadata": {},
   "outputs": [],
   "source": [
    "raw[0]"
   ]
  },
  {
   "cell_type": "code",
   "execution_count": null,
   "metadata": {
    "collapsed": true
   },
   "outputs": [],
   "source": [
    "with open(\"../data/making-a-point-flow-map/country-centroids.geojson\") as f:\n",
    "    data = json.load(f)"
   ]
  },
  {
   "cell_type": "code",
   "execution_count": null,
   "metadata": {},
   "outputs": [],
   "source": [
    "data[\"features\"][0]"
   ]
  },
  {
   "cell_type": "code",
   "execution_count": null,
   "metadata": {
    "collapsed": true
   },
   "outputs": [],
   "source": [
    "country_idx = {}\n",
    "for feature in data[\"features\"]:\n",
    "    idx = feature[\"properties\"][\"iso_alpha-3\"]\n",
    "    country_idx[idx] = feature[\"geometry\"][\"coordinates\"]\n"
   ]
  },
  {
   "cell_type": "code",
   "execution_count": null,
   "metadata": {},
   "outputs": [],
   "source": [
    "time_series = []\n",
    "for row in raw:\n",
    "    if row['Reporter ISO'] in country_idx and row['Partner ISO'] in country_idx and row['Trade Flow'] == 'Export':\n",
    "        time_series.append({'org': country_idx[row['Reporter ISO']],\n",
    "                            'dst': country_idx[row['Partner ISO']],\n",
    "                            'year': row['Year'],\n",
    "                            'value': float(row['Trade Value (US$)'])\n",
    "                           })"
   ]
  },
  {
   "cell_type": "code",
   "execution_count": null,
   "metadata": {},
   "outputs": [],
   "source": [
    "totals = {'2014': 0, '2015': 0, '2016': 0, '2017': 0}\n",
    "for row in time_series:\n",
    "        totals[row['year']] += row['value']"
   ]
  },
  {
   "cell_type": "code",
   "execution_count": null,
   "metadata": {},
   "outputs": [],
   "source": [
    "totals"
   ]
  },
  {
   "cell_type": "code",
   "execution_count": null,
   "metadata": {},
   "outputs": [],
   "source": [
    "# Each point will be 8 32bit floats so 256 bytes per animated points\n",
    "# So lets say each point will be worth 20 million dollars\n"
   ]
  },
  {
   "cell_type": "code",
   "execution_count": null,
   "metadata": {},
   "outputs": [],
   "source": [
    "scaling_factor = 10000000\n",
    "points = []\n",
    "for row in time_series:\n",
    "    for i in range(0, int(row['value']/scaling_factor)):\n",
    "        points += GetPoint(row, int(row['value']/scaling_factor))\n",
    "array.array('f', points).tofile(open('../data/making-a-point-flow-map/us-exports.bin', 'wb'))    \n",
    "len(points)/8"
   ]
  },
  {
   "cell_type": "code",
   "execution_count": null,
   "metadata": {},
   "outputs": [],
   "source": [
    "!rsync -rcav ../data/making-a-point-flow-map timemachine2:/usr2/aberkley.earthtime.org/app/misc/"
   ]
  },
  {
   "cell_type": "code",
   "execution_count": null,
   "metadata": {},
   "outputs": [],
   "source": [
    "print 'TRUE\\tmaking_a_point_flow_map\\tMaking EarthTime Maps\\tPoint Flow\\tCREATE Lab\\t2013\\t2018\\t1\\thttps://aberkley.earthtime.org/misc/making-a-point-flow-map/us-exports.bin\\t\\t\\tpoint-flow\\t\\t\\t\\t\\t\\t\\t\\t\\t\\t\\t\\t\\t\\t\\t\\t\\t\\t\\t8\\tWebGLVectorTile2.pointFlowVertexShader\\tWebGLVectorTile2.pointFlowFragmentShader\\tWebGLVectorTile2.prototype._drawPointFlow\\t0.25\\t0.5'"
   ]
  }
 ],
 "metadata": {
  "kernelspec": {
   "display_name": "Python 2",
   "language": "python",
   "name": "python2"
  },
  "language_info": {
   "codemirror_mode": {
    "name": "ipython",
    "version": 2
   },
   "file_extension": ".py",
   "mimetype": "text/x-python",
   "name": "python",
   "nbconvert_exporter": "python",
   "pygments_lexer": "ipython2",
   "version": "2.7.13"
  }
 },
 "nbformat": 4,
 "nbformat_minor": 2
}
